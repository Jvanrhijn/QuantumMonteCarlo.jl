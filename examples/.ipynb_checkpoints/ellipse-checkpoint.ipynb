{
 "cells": [
  {
   "cell_type": "code",
   "execution_count": null,
   "metadata": {},
   "outputs": [
    {
     "name": "stderr",
     "output_type": "stream",
     "text": [
      "\u001b[32mProgress:  10%|████▎                                    |  ETA: 0:00:06\u001b[39m"
     ]
    }
   ],
   "source": [
    "using Distributions\n",
    "using Plots\n",
    "using DataStructures\n",
    "using Random\n",
    "using LinearAlgebra\n",
    "using HDF5\n",
    "using StatsBase\n",
    "\n",
    "using QuantumMonteCarlo\n",
    "\n",
    "const a = 1.0\n",
    "const reference_energy = 1.715\n",
    "\n",
    "#include(\"forceutil.jl\")\n",
    "\n",
    "# DMC settings\n",
    "τ = .5e-2\n",
    "nwalkers = 10\n",
    "num_blocks = 400\n",
    "steps_per_block = Int64(1/τ)\n",
    "neq = 10\n",
    "\n",
    "# Trial wave function\n",
    "function ψellipse(x::Array{Float64})\n",
    "    α = a*cosh(1)\n",
    "    β = a*sinh(1)\n",
    "    r = (x[1]/α)^2 + (x[2]/β)^2\n",
    "    max(0, 1.0 - r)\n",
    "end\n",
    "\n",
    "ψtrial = WaveFunction(\n",
    "    ψellipse,\n",
    "    x -> QuantumMonteCarlo.gradient_fd(ψellipse, x),\n",
    "    x -> QuantumMonteCarlo.laplacian_fd(ψellipse, x)\n",
    ")\n",
    "\n",
    "# Setting up the hamiltonian\n",
    "hamiltonian(ψstatus, x) = -0.5*ψstatus.laplacian\n",
    "hamiltonian_recompute(ψ, x) = -0.5*ψ.laplacian(x)\n",
    "\n",
    "model = Model(\n",
    "    hamiltonian,\n",
    "    hamiltonian_recompute,\n",
    "    ψtrial,\n",
    ")\n",
    "\n",
    "rng = MersenneTwister(0)\n",
    "\n",
    "# create \"Fat\" walkers\n",
    "walkers = QuantumMonteCarlo.generate_walkers(nwalkers, ψtrial, rng, Uniform(-0.5, 0.5), 2)\n",
    "fat_walkers = [QuantumMonteCarlo.FatWalker(walker, OrderedDict()) for walker in walkers]\n",
    "\n",
    "### Actually run DMC\n",
    "energies, errors = QuantumMonteCarlo.run_dmc!(\n",
    "    model, \n",
    "    fat_walkers, \n",
    "    τ, \n",
    "    num_blocks, \n",
    "    steps_per_block, \n",
    "    reference_energy; \n",
    "    rng=rng, \n",
    "    neq=neq, \n",
    "    verbosity=:progressbar\n",
    ");"
   ]
  },
  {
   "cell_type": "code",
   "execution_count": null,
   "metadata": {},
   "outputs": [],
   "source": []
  }
 ],
 "metadata": {
  "kernelspec": {
   "display_name": "Julia 1.5.1",
   "language": "julia",
   "name": "julia-1.5"
  },
  "language_info": {
   "file_extension": ".jl",
   "mimetype": "application/julia",
   "name": "julia",
   "version": "1.5.2"
  }
 },
 "nbformat": 4,
 "nbformat_minor": 2
}
